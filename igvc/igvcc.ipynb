{
 "cells": [
  {
   "cell_type": "code",
   "execution_count": 1,
   "metadata": {},
   "outputs": [],
   "source": [
    "import cv2 as cv\n",
    "import numpy as np"
   ]
  },
  {
   "cell_type": "code",
   "execution_count": 2,
   "metadata": {},
   "outputs": [],
   "source": [
    "def roi(img):\n",
    "    #numpy array of region\n",
    "    pts=np.array([[(75,352),(176,30),(456,30),(565,352)]],dtype=np.int32)\n",
    "    #making a blank image of size img\n",
    "    blank=np.zeros_like(img)\n",
    "    #drawing roi of white color on blank img\n",
    "    roii=cv.fillPoly(blank,[pts],(255,255,255))\n",
    "    #masking both\n",
    "    roiii=cv.bitwise_and(roii,img)\n",
    "    return roiii"
   ]
  },
  {
   "cell_type": "code",
   "execution_count": 3,
   "metadata": {},
   "outputs": [],
   "source": [
    "def birdview(img):\n",
    "    w=800\n",
    "    h=500\n",
    "    pt1=np.float32([[(176,30),(456,30),(75,352),(565,352)]])\n",
    "    pt2=np.float32([[40,0],[760,0],[250,500],[550,500]])\n",
    "    matrix=cv.getPerspectiveTransform(pt1,pt2)\n",
    "    output=cv.warpPerspective(img,matrix,(w,h))\n",
    "    return output"
   ]
  },
  {
   "cell_type": "code",
   "execution_count": 4,
   "metadata": {},
   "outputs": [
    {
     "ename": "error",
     "evalue": "OpenCV(4.7.0) :-1: error: (-5:Bad argument) in function 'fillPoly'\n> Overload resolution failed:\n>  - img data type = 17 is not supported\n>  - Expected Ptr<cv::UMat> for argument 'img'\n",
     "output_type": "error",
     "traceback": [
      "\u001b[1;31m---------------------------------------------------------------------------\u001b[0m",
      "\u001b[1;31merror\u001b[0m                                     Traceback (most recent call last)",
      "Cell \u001b[1;32mIn[4], line 6\u001b[0m\n\u001b[0;32m      3\u001b[0m ret,frame\u001b[39m=\u001b[39mvid\u001b[39m.\u001b[39mread()\n\u001b[0;32m      4\u001b[0m \u001b[39m#numpy array of region\u001b[39;00m\n\u001b[0;32m      5\u001b[0m \u001b[39m#calling functions\u001b[39;00m\n\u001b[1;32m----> 6\u001b[0m roii\u001b[39m=\u001b[39mroi(frame)\n\u001b[0;32m      7\u001b[0m img1\u001b[39m=\u001b[39mbirdview(roii)\n\u001b[0;32m      8\u001b[0m \u001b[39m# #turning gray and applying blur\u001b[39;00m\n",
      "Cell \u001b[1;32mIn[2], line 7\u001b[0m, in \u001b[0;36mroi\u001b[1;34m(img)\u001b[0m\n\u001b[0;32m      5\u001b[0m blank\u001b[39m=\u001b[39mnp\u001b[39m.\u001b[39mzeros_like(img)\n\u001b[0;32m      6\u001b[0m \u001b[39m#drawing roi of white color on blank img\u001b[39;00m\n\u001b[1;32m----> 7\u001b[0m roii\u001b[39m=\u001b[39mcv\u001b[39m.\u001b[39;49mfillPoly(blank,[pts],(\u001b[39m255\u001b[39;49m,\u001b[39m255\u001b[39;49m,\u001b[39m255\u001b[39;49m))\n\u001b[0;32m      8\u001b[0m \u001b[39m#masking both\u001b[39;00m\n\u001b[0;32m      9\u001b[0m roiii\u001b[39m=\u001b[39mcv\u001b[39m.\u001b[39mbitwise_and(roii,img)\n",
      "\u001b[1;31merror\u001b[0m: OpenCV(4.7.0) :-1: error: (-5:Bad argument) in function 'fillPoly'\n> Overload resolution failed:\n>  - img data type = 17 is not supported\n>  - Expected Ptr<cv::UMat> for argument 'img'\n"
     ]
    },
    {
     "ename": "",
     "evalue": "",
     "output_type": "error",
     "traceback": [
      "\u001b[1;31mThe Kernel crashed while executing code in the the current cell or a previous cell. Please review the code in the cell(s) to identify a possible cause of the failure. Click <a href='https://aka.ms/vscodeJupyterKernelCrash'>here</a> for more info. View Jupyter <a href='command:jupyter.viewOutput'>log</a> for further details."
     ]
    }
   ],
   "source": [
    "vid=cv.VideoCapture(r\"C:\\Users\\hkshi\\Downloads\\WhatsApp Video 2023-03-19 at 21.40.39.mp4\")\n",
    "while True:\n",
    "    ret,frame=vid.read()\n",
    "    #numpy array of region\n",
    "    #calling functions\n",
    "    roii=roi(frame)\n",
    "    img1=birdview(roii)\n",
    "    # #turning gray and applying blur\n",
    "    gray=cv.cvtColor(img1,cv.COLOR_BGR2GRAY)\n",
    "    blur = cv.medianBlur(gray,19)\n",
    "    # #turning the image into black and white min and max parameters\n",
    "    (thresh, BnW_image) = cv.threshold(blur, 200, 255, cv.THRESH_BINARY)\n",
    "    # #canny edge detection\n",
    "    canny=cv.Canny(BnW_image,125,255)\n",
    "    # #finding contour lines on canny image and drawing it on final image\n",
    "    contours, hierarchies=cv.findContours(canny,cv.RETR_TREE,cv.CHAIN_APPROX_SIMPLE)\n",
    "    finalimg=cv.drawContours(img1,contours,-1,(0,0,0),6)\n",
    "    fimg=finalimg[0:500,150:650]\n",
    "    cv.imshow(\"new\",frame)\n",
    "    if cv.waitKey(1) and 0xFF==ord(\"s\"):\n",
    "        break\n",
    "vid.release()\n",
    "cv.destroyAllWindows()"
   ]
  }
 ],
 "metadata": {
  "kernelspec": {
   "display_name": "Python 3",
   "language": "python",
   "name": "python3"
  },
  "language_info": {
   "codemirror_mode": {
    "name": "ipython",
    "version": 3
   },
   "file_extension": ".py",
   "mimetype": "text/x-python",
   "name": "python",
   "nbconvert_exporter": "python",
   "pygments_lexer": "ipython3",
   "version": "3.10.0"
  },
  "orig_nbformat": 4,
  "vscode": {
   "interpreter": {
    "hash": "16037275878e51c27a8709b0565eda3f87d771055d7d729519b6518fb4a95bd3"
   }
  }
 },
 "nbformat": 4,
 "nbformat_minor": 2
}
